{
 "cells": [
  {
   "cell_type": "markdown",
   "id": "218aa09d",
   "metadata": {},
   "source": [
    "# Project 2 (Group Project) US Vaccination Insight\n",
    "\n"
   ]
  },
  {
   "cell_type": "markdown",
   "id": "1c40e4a0",
   "metadata": {},
   "source": [
    "# Steps:\n",
    "\n",
    "- Data Cleaning\n",
    "- Date analysis\n",
    "- Graphing\n",
    "- Conclusion"
   ]
  },
  {
   "cell_type": "markdown",
   "id": "c84d0bcf",
   "metadata": {},
   "source": [
    "# Data dictionary "
   ]
  },
  {
   "cell_type": "code",
   "execution_count": 77,
   "id": "ea78b1eb",
   "metadata": {},
   "outputs": [
    {
     "data": {
      "text/html": [
       "<div>\n",
       "<style scoped>\n",
       "    .dataframe tbody tr th:only-of-type {\n",
       "        vertical-align: middle;\n",
       "    }\n",
       "\n",
       "    .dataframe tbody tr th {\n",
       "        vertical-align: top;\n",
       "    }\n",
       "\n",
       "    .dataframe thead th {\n",
       "        text-align: right;\n",
       "    }\n",
       "</style>\n",
       "<table border=\"1\" class=\"dataframe\">\n",
       "  <thead>\n",
       "    <tr style=\"text-align: right;\">\n",
       "      <th></th>\n",
       "      <th>0</th>\n",
       "    </tr>\n",
       "  </thead>\n",
       "  <tbody>\n",
       "    <tr>\n",
       "      <th>Column name</th>\n",
       "      <td>Definition</td>\n",
       "    </tr>\n",
       "    <tr>\n",
       "      <th>FIPS</th>\n",
       "      <td>U.S. State identification code</td>\n",
       "    </tr>\n",
       "    <tr>\n",
       "      <th>Province_State</th>\n",
       "      <td>Name of the State</td>\n",
       "    </tr>\n",
       "    <tr>\n",
       "      <th>Country_Region</th>\n",
       "      <td>Code of the country</td>\n",
       "    </tr>\n",
       "    <tr>\n",
       "      <th>Date</th>\n",
       "      <td>Data collection date</td>\n",
       "    </tr>\n",
       "    <tr>\n",
       "      <th>Lat</th>\n",
       "      <td>Latitude</td>\n",
       "    </tr>\n",
       "    <tr>\n",
       "      <th>Long_</th>\n",
       "      <td>Longitude</td>\n",
       "    </tr>\n",
       "    <tr>\n",
       "      <th>Vaccine_Type</th>\n",
       "      <td>Common name of the vaccine provider. Can be ei...</td>\n",
       "    </tr>\n",
       "    <tr>\n",
       "      <th>Doses_alloc</th>\n",
       "      <td>Cumulative number of doses allocated</td>\n",
       "    </tr>\n",
       "    <tr>\n",
       "      <th>Doses_shipped</th>\n",
       "      <td>Cumulative number of doses that have arrived t...</td>\n",
       "    </tr>\n",
       "    <tr>\n",
       "      <th>Doses_admin</th>\n",
       "      <td>Cumulative number of doses administered, inclu...</td>\n",
       "    </tr>\n",
       "    <tr>\n",
       "      <th>Stage_One_Doses</th>\n",
       "      <td>Cumulative number of first doses administered</td>\n",
       "    </tr>\n",
       "    <tr>\n",
       "      <th>Stage_Two_Doses</th>\n",
       "      <td>Cumulative number of second doses administered</td>\n",
       "    </tr>\n",
       "    <tr>\n",
       "      <th>Combined_Key</th>\n",
       "      <td>Combination of Province_State, Country_Region</td>\n",
       "    </tr>\n",
       "  </tbody>\n",
       "</table>\n",
       "</div>"
      ],
      "text/plain": [
       "                                                                 0\n",
       "Column name                                             Definition\n",
       "FIPS                                U.S. State identification code\n",
       "Province_State                                   Name of the State\n",
       "Country_Region                                 Code of the country\n",
       "Date                                          Data collection date\n",
       "Lat                                                       Latitude\n",
       "Long_                                                    Longitude\n",
       "Vaccine_Type     Common name of the vaccine provider. Can be ei...\n",
       "Doses_alloc                   Cumulative number of doses allocated\n",
       "Doses_shipped    Cumulative number of doses that have arrived t...\n",
       "Doses_admin      Cumulative number of doses administered, inclu...\n",
       "Stage_One_Doses      Cumulative number of first doses administered\n",
       "Stage_Two_Doses     Cumulative number of second doses administered\n",
       "Combined_Key         Combination of Province_State, Country_Region"
      ]
     },
     "execution_count": 77,
     "metadata": {},
     "output_type": "execute_result"
    }
   ],
   "source": [
    "import pandas as pd\n",
    "import numpy as np\n",
    "from datetime import datetime\n",
    "import matplotlib.pyplot as plt\n",
    "from wordcloud import WordCloud\n",
    "\n",
    "data_dict={\"Column name\": \"Definition\",\n",
    "\"FIPS\": \"U.S. State identification code\",\n",
    "\"Province_State\": \"Name of the State\",\n",
    "\"Country_Region\":\"Code of the country\",\n",
    "\"Date\":\"Data collection date\",\n",
    "\"Lat\":\"Latitude\",\n",
    "\"Long_\":\"Longitude\",\n",
    "\"Vaccine_Type\":\"Common name of the vaccine provider. Can be either a combination of all vaccine types labeled as 'All', or a specific provider like Moderna or Pfizer\",\n",
    "\"Doses_alloc\":\"Cumulative number of doses allocated\",\n",
    "\"Doses_shipped\": \"Cumulative number of doses that have arrived to the vaccination sites.\",\n",
    "\"Doses_admin\" : \"Cumulative number of doses administered, including booster doses for states where it is reported as part of the total.\",\n",
    "\"Stage_One_Doses\": \"Cumulative number of first doses administered\",\n",
    "\"Stage_Two_Doses\": \"Cumulative number of second doses administered\",\n",
    "\"Combined_Key\":\"Combination of Province_State, Country_Region\"}\n",
    "data_dict_df= pd.DataFrame(data_dict, index=[0])\n",
    "data_dict_df.T"
   ]
  },
  {
   "cell_type": "markdown",
   "id": "fb467026",
   "metadata": {},
   "source": [
    "To analyze our data, we need to use some python libraries. In this section, we are importing all the required libraries such pandas, NumPy, matplotlib, and word cloud."
   ]
  },
  {
   "cell_type": "markdown",
   "id": "0216a5f2",
   "metadata": {},
   "source": [
    "# Import dataset"
   ]
  },
  {
   "cell_type": "code",
   "execution_count": 78,
   "id": "e12f130e",
   "metadata": {},
   "outputs": [],
   "source": [
    "# These commands below set some options for pandas and to have matplotlib show the charts in the notebook\n",
    "pd.set_option('display.max_rows', 1000)\n",
    "pd.options.display.float_format = '{:,.2f}'.format\n",
    "%matplotlib inline\n",
    "d = lambda x: datetime.strptime(x, '%Y-%m-%d')\n",
    "\n",
    "# all States in U.S\n",
    "states = [\"Alabama\", \"Alaska\", \"Arizona\", \"Arkansas\", \"California\", \"Colorado\", \"Connecticut\", \"Delaware\", \"Florida\", \"Georgia\", \n",
    "          \"Hawaii\", \"Idaho\", \"Illinois\", \"Indiana\", \"Iowa\", \"Kansas\", \"Kentucky\", \"Louisiana\", \"Maine\", \"Maryland\", \"Massachusetts\", \n",
    "          \"Michigan\", \"Minnesota\", \"Mississippi\", \"Missouri\", \"Montana\", \"Nebraska\", \"Nevada\", \"New Hampshire\", \"New Jersey\", \n",
    "          \"New Mexico\", \"New York\", \"North Carolina\", \"North Dakota\", \"Ohio\", \"Oklahoma\", \"Oregon\", \"Pennsylvania\", \"Rhode Island\", \n",
    "          \"South Carolina\", \"South Dakota\", \"Tennessee\", \"Texas\", \"Utah\", \"Vermont\", \"Virginia\", \"Washington\", \"West Virginia\", \n",
    "          \"Wisconsin\", \"Wyoming\"]\n",
    "\n",
    "# Load the data\n",
    "## Main dataset: time_series_covid19_vaccine_doses_admin_US.csv & vaccine_data_us_timeline.csv\n",
    "vus_doses = pd.read_csv('https://raw.githubusercontent.com/UC-Berkeley-I-School/Project2_Zhou_Tung_Iradukunda/main/time_series_covid19_vaccine_doses_admin_US.csv?token=GHSAT0AAAAAABQCEFTB55K7G5D3MUNO4THCYSYTSWA', index_col=False)\n",
    "vus_type = pd.read_csv('https://raw.githubusercontent.com/UC-Berkeley-I-School/Project2_Zhou_Tung_Iradukunda/main/vaccine_data_us_timeline.csv?token=GHSAT0AAAAAABQCEFTAMLJKJGSBOHXPRSS4YSYTRUQ', index_col=False, parse_dates=['Date'], date_parser=d)"
   ]
  },
  {
   "cell_type": "markdown",
   "id": "2f61ed3a",
   "metadata": {},
   "source": [
    "# Date Clean up"
   ]
  },
  {
   "cell_type": "code",
   "execution_count": 79,
   "id": "a9f87a43",
   "metadata": {},
   "outputs": [],
   "source": [
    "#change column names to all lower case\n",
    "vus_doses = vus_doses.rename(columns = str.lower)\n",
    "vus_type.columns= vus_type.columns.str.lower()\n",
    "\n",
    "# remove unnecessary columns\n",
    "vus_doses = vus_doses.drop(columns = ['uid', 'iso2', 'iso3', 'code3', 'admin2', 'lat', 'long_', 'combined_key'])\n",
    "vus_type = vus_type.drop(columns = ['lat', 'long_', 'combined_key'])\n",
    "\n",
    "# remove any rows with value in province_state that is not a U.S state\n",
    "vus_doses = vus_doses[vus_doses['province_state'].isin(states)]\n",
    "vus_type = vus_type[vus_type['province_state'].isin(states)]\n",
    "\n",
    "# Convert dates in column into a column name 'date' for dataset vus_doses\n",
    "vus_doses = vus_doses.melt(id_vars = ['fips', 'province_state', 'country_region', 'population'], \n",
    "              var_name = 'date', \n",
    "              value_name = 'total_doses').sort_values(by = ['province_state'])\n",
    "\n",
    "# Only keep data in range 2021-03-31 - 2022-04-01\n",
    "vus_doses = vus_doses[vus_doses. date> '2021-03-31']\n",
    "vus_doses = vus_doses[vus_doses.date < '2022-04-01']\n",
    "\n",
    "vus_type = vus_type[vus_type.date > '2021-03-31']\n",
    "vus_type = vus_type[vus_type.date < '2022-04-01']"
   ]
  },
  {
   "cell_type": "markdown",
   "id": "04a6af21",
   "metadata": {},
   "source": [
    "describe() function in pandas is used to get the statistics of each feature present in our dataset. Some of the information we get includes count, max, min, standard deviation, median, etc."
   ]
  },
  {
   "cell_type": "code",
   "execution_count": 80,
   "id": "48df04ba",
   "metadata": {},
   "outputs": [
    {
     "data": {
      "text/html": [
       "<div>\n",
       "<style scoped>\n",
       "    .dataframe tbody tr th:only-of-type {\n",
       "        vertical-align: middle;\n",
       "    }\n",
       "\n",
       "    .dataframe tbody tr th {\n",
       "        vertical-align: top;\n",
       "    }\n",
       "\n",
       "    .dataframe thead th {\n",
       "        text-align: right;\n",
       "    }\n",
       "</style>\n",
       "<table border=\"1\" class=\"dataframe\">\n",
       "  <thead>\n",
       "    <tr style=\"text-align: right;\">\n",
       "      <th></th>\n",
       "      <th>fips</th>\n",
       "      <th>population</th>\n",
       "      <th>total_doses</th>\n",
       "    </tr>\n",
       "  </thead>\n",
       "  <tbody>\n",
       "    <tr>\n",
       "      <th>count</th>\n",
       "      <td>18,250.00</td>\n",
       "      <td>18,250.00</td>\n",
       "      <td>18,250.00</td>\n",
       "    </tr>\n",
       "    <tr>\n",
       "      <th>mean</th>\n",
       "      <td>29.32</td>\n",
       "      <td>6,550,675.48</td>\n",
       "      <td>7,882,960.17</td>\n",
       "    </tr>\n",
       "    <tr>\n",
       "      <th>std</th>\n",
       "      <td>15.62</td>\n",
       "      <td>7,315,216.25</td>\n",
       "      <td>9,837,842.31</td>\n",
       "    </tr>\n",
       "    <tr>\n",
       "      <th>min</th>\n",
       "      <td>1.00</td>\n",
       "      <td>578,759.00</td>\n",
       "      <td>262,406.00</td>\n",
       "    </tr>\n",
       "    <tr>\n",
       "      <th>25%</th>\n",
       "      <td>17.00</td>\n",
       "      <td>1,792,147.00</td>\n",
       "      <td>2,093,881.50</td>\n",
       "    </tr>\n",
       "    <tr>\n",
       "      <th>50%</th>\n",
       "      <td>29.50</td>\n",
       "      <td>4,558,233.50</td>\n",
       "      <td>4,763,112.00</td>\n",
       "    </tr>\n",
       "    <tr>\n",
       "      <th>75%</th>\n",
       "      <td>42.00</td>\n",
       "      <td>7,614,893.00</td>\n",
       "      <td>9,640,754.00</td>\n",
       "    </tr>\n",
       "    <tr>\n",
       "      <th>max</th>\n",
       "      <td>56.00</td>\n",
       "      <td>39,512,223.00</td>\n",
       "      <td>72,634,494.00</td>\n",
       "    </tr>\n",
       "  </tbody>\n",
       "</table>\n",
       "</div>"
      ],
      "text/plain": [
       "           fips    population   total_doses\n",
       "count 18,250.00     18,250.00     18,250.00\n",
       "mean      29.32  6,550,675.48  7,882,960.17\n",
       "std       15.62  7,315,216.25  9,837,842.31\n",
       "min        1.00    578,759.00    262,406.00\n",
       "25%       17.00  1,792,147.00  2,093,881.50\n",
       "50%       29.50  4,558,233.50  4,763,112.00\n",
       "75%       42.00  7,614,893.00  9,640,754.00\n",
       "max       56.00 39,512,223.00 72,634,494.00"
      ]
     },
     "execution_count": 80,
     "metadata": {},
     "output_type": "execute_result"
    }
   ],
   "source": [
    "vus_doses.describe()"
   ]
  },
  {
   "cell_type": "code",
   "execution_count": 81,
   "id": "ef57ebc3",
   "metadata": {},
   "outputs": [
    {
     "data": {
      "text/html": [
       "<div>\n",
       "<style scoped>\n",
       "    .dataframe tbody tr th:only-of-type {\n",
       "        vertical-align: middle;\n",
       "    }\n",
       "\n",
       "    .dataframe tbody tr th {\n",
       "        vertical-align: top;\n",
       "    }\n",
       "\n",
       "    .dataframe thead th {\n",
       "        text-align: right;\n",
       "    }\n",
       "</style>\n",
       "<table border=\"1\" class=\"dataframe\">\n",
       "  <thead>\n",
       "    <tr style=\"text-align: right;\">\n",
       "      <th></th>\n",
       "      <th>fips</th>\n",
       "      <th>doses_alloc</th>\n",
       "      <th>doses_shipped</th>\n",
       "      <th>doses_admin</th>\n",
       "      <th>stage_one_doses</th>\n",
       "      <th>stage_two_doses</th>\n",
       "    </tr>\n",
       "  </thead>\n",
       "  <tbody>\n",
       "    <tr>\n",
       "      <th>count</th>\n",
       "      <td>109,500.00</td>\n",
       "      <td>6,538.00</td>\n",
       "      <td>106,963.00</td>\n",
       "      <td>107,413.00</td>\n",
       "      <td>58,025.00</td>\n",
       "      <td>71,859.00</td>\n",
       "    </tr>\n",
       "    <tr>\n",
       "      <th>mean</th>\n",
       "      <td>29.32</td>\n",
       "      <td>5,850,382.22</td>\n",
       "      <td>3,300,446.02</td>\n",
       "      <td>2,678,711.10</td>\n",
       "      <td>2,545,520.46</td>\n",
       "      <td>1,603,004.66</td>\n",
       "    </tr>\n",
       "    <tr>\n",
       "      <th>std</th>\n",
       "      <td>15.62</td>\n",
       "      <td>7,780,479.15</td>\n",
       "      <td>6,968,718.02</td>\n",
       "      <td>5,741,300.94</td>\n",
       "      <td>4,199,076.41</td>\n",
       "      <td>2,635,880.34</td>\n",
       "    </tr>\n",
       "    <tr>\n",
       "      <th>min</th>\n",
       "      <td>1.00</td>\n",
       "      <td>0.00</td>\n",
       "      <td>-186,039.00</td>\n",
       "      <td>-271,346.00</td>\n",
       "      <td>0.00</td>\n",
       "      <td>-212,680.00</td>\n",
       "    </tr>\n",
       "    <tr>\n",
       "      <th>25%</th>\n",
       "      <td>17.00</td>\n",
       "      <td>508,630.00</td>\n",
       "      <td>0.00</td>\n",
       "      <td>2,924.00</td>\n",
       "      <td>265,637.00</td>\n",
       "      <td>145,852.50</td>\n",
       "    </tr>\n",
       "    <tr>\n",
       "      <th>50%</th>\n",
       "      <td>29.50</td>\n",
       "      <td>2,476,885.00</td>\n",
       "      <td>655,500.00</td>\n",
       "      <td>461,825.00</td>\n",
       "      <td>1,035,830.00</td>\n",
       "      <td>718,076.00</td>\n",
       "    </tr>\n",
       "    <tr>\n",
       "      <th>75%</th>\n",
       "      <td>42.00</td>\n",
       "      <td>6,809,515.00</td>\n",
       "      <td>3,602,057.50</td>\n",
       "      <td>2,884,063.00</td>\n",
       "      <td>3,103,304.00</td>\n",
       "      <td>1,966,628.00</td>\n",
       "    </tr>\n",
       "    <tr>\n",
       "      <th>max</th>\n",
       "      <td>56.00</td>\n",
       "      <td>27,513,735.00</td>\n",
       "      <td>87,339,285.00</td>\n",
       "      <td>72,634,494.00</td>\n",
       "      <td>34,100,720.00</td>\n",
       "      <td>26,876,148.00</td>\n",
       "    </tr>\n",
       "  </tbody>\n",
       "</table>\n",
       "</div>"
      ],
      "text/plain": [
       "            fips   doses_alloc  doses_shipped   doses_admin  stage_one_doses  \\\n",
       "count 109,500.00      6,538.00     106,963.00    107,413.00        58,025.00   \n",
       "mean       29.32  5,850,382.22   3,300,446.02  2,678,711.10     2,545,520.46   \n",
       "std        15.62  7,780,479.15   6,968,718.02  5,741,300.94     4,199,076.41   \n",
       "min         1.00          0.00    -186,039.00   -271,346.00             0.00   \n",
       "25%        17.00    508,630.00           0.00      2,924.00       265,637.00   \n",
       "50%        29.50  2,476,885.00     655,500.00    461,825.00     1,035,830.00   \n",
       "75%        42.00  6,809,515.00   3,602,057.50  2,884,063.00     3,103,304.00   \n",
       "max        56.00 27,513,735.00  87,339,285.00 72,634,494.00    34,100,720.00   \n",
       "\n",
       "       stage_two_doses  \n",
       "count        71,859.00  \n",
       "mean      1,603,004.66  \n",
       "std       2,635,880.34  \n",
       "min        -212,680.00  \n",
       "25%         145,852.50  \n",
       "50%         718,076.00  \n",
       "75%       1,966,628.00  \n",
       "max      26,876,148.00  "
      ]
     },
     "execution_count": 81,
     "metadata": {},
     "output_type": "execute_result"
    }
   ],
   "source": [
    "vus_type.describe()"
   ]
  },
  {
   "cell_type": "markdown",
   "id": "b16c58af",
   "metadata": {},
   "source": [
    "# Covid19 Vaccine Manufacturer Insights"
   ]
  },
  {
   "cell_type": "code",
   "execution_count": 82,
   "id": "b35eb883",
   "metadata": {},
   "outputs": [
    {
     "data": {
      "text/plain": [
       "array(['Pfizer', 'Moderna', 'All', 'Unknown', 'Janssen', 'Unassigned',\n",
       "       'unknown'], dtype=object)"
      ]
     },
     "execution_count": 82,
     "metadata": {},
     "output_type": "execute_result"
    }
   ],
   "source": [
    "vus_type.vaccine_type.unique()"
   ]
  },
  {
   "cell_type": "markdown",
   "id": "52b20ac1",
   "metadata": {},
   "source": [
    "Out of 6 vaccine type from our primary dataset, we decide to focus on the following vaccine type : Pfizen, Moderna and Jansseen for our analysis.\n"
   ]
  },
  {
   "cell_type": "code",
   "execution_count": 83,
   "id": "4b313d79",
   "metadata": {},
   "outputs": [],
   "source": [
    "vus_type = vus_type[(vus_type['vaccine_type']=='Moderna') | (vus_type['vaccine_type']=='Pfizer') |(vus_type['vaccine_type']=='Janssen')]"
   ]
  },
  {
   "cell_type": "code",
   "execution_count": 84,
   "id": "c9813d0f",
   "metadata": {},
   "outputs": [
    {
     "data": {
      "text/plain": [
       "array(['Pfizer', 'Moderna', 'Janssen'], dtype=object)"
      ]
     },
     "execution_count": 84,
     "metadata": {},
     "output_type": "execute_result"
    }
   ],
   "source": [
    "vus_type.vaccine_type.unique()"
   ]
  },
  {
   "cell_type": "markdown",
   "id": "17a30a4f",
   "metadata": {},
   "source": [
    "Which vaccine manufacturer's product is most frequently reported in being administered and adopted?"
   ]
  },
  {
   "cell_type": "code",
   "execution_count": 85,
   "id": "3806bb0a",
   "metadata": {},
   "outputs": [
    {
     "data": {
      "text/plain": [
       "array(['Alabama', 'Alaska', 'Arizona', 'Arkansas', 'California',\n",
       "       'Colorado', 'Connecticut', 'Delaware', 'Florida', 'Georgia',\n",
       "       'Hawaii', 'Idaho', 'Illinois', 'Indiana', 'Iowa', 'Kansas',\n",
       "       'Kentucky', 'Louisiana', 'Maine', 'Maryland', 'Massachusetts',\n",
       "       'Michigan', 'Minnesota', 'Mississippi', 'Missouri', 'Montana',\n",
       "       'Nebraska', 'Nevada', 'New Hampshire', 'New Jersey', 'New Mexico',\n",
       "       'New York', 'North Carolina', 'North Dakota', 'Ohio', 'Oklahoma',\n",
       "       'Oregon', 'Pennsylvania', 'Rhode Island', 'South Carolina',\n",
       "       'South Dakota', 'Tennessee', 'Texas', 'Utah', 'Vermont',\n",
       "       'Virginia', 'Washington', 'West Virginia', 'Wisconsin', 'Wyoming'],\n",
       "      dtype=object)"
      ]
     },
     "execution_count": 85,
     "metadata": {},
     "output_type": "execute_result"
    }
   ],
   "source": [
    "vus_type['province_state'].unique()"
   ]
  },
  {
   "cell_type": "markdown",
   "id": "ea32ef59",
   "metadata": {},
   "source": [
    "Out of 50 states, We picked Top 5 most populated states which are: California , Texas, Florida, New York ,Pennsylvania."
   ]
  },
  {
   "cell_type": "code",
   "execution_count": 86,
   "id": "ca1967ad",
   "metadata": {},
   "outputs": [],
   "source": [
    "vus_type = vus_type[(vus_type['province_state']=='California') | (vus_type['province_state']=='Florida') \n",
    "                    |(vus_type['province_state']=='New York') | (vus_type['province_state']=='Texas') \n",
    "                    |(vus_type['province_state']=='Pennsylvania')]"
   ]
  },
  {
   "cell_type": "code",
   "execution_count": 87,
   "id": "f7094dcd",
   "metadata": {},
   "outputs": [
    {
     "data": {
      "text/plain": [
       "array(['California', 'Florida', 'New York', 'Pennsylvania', 'Texas'],\n",
       "      dtype=object)"
      ]
     },
     "execution_count": 87,
     "metadata": {},
     "output_type": "execute_result"
    }
   ],
   "source": [
    "vus_type['province_state'].unique()"
   ]
  },
  {
   "cell_type": "code",
   "execution_count": 88,
   "id": "1c3597ae",
   "metadata": {},
   "outputs": [],
   "source": [
    "vus_type_subset= vus_type[(vus_type.date == \"2022-03-31\")]\n",
    "state_population = vus_doses.groupby(['province_state']).agg({'population': 'first'})\n",
    "total_vac_popu_by_vac_type = state_population.merge(vus_type_subset, how='inner', on='province_state')\n",
    "total_vac_popu_by_Moderna= total_vac_popu_by_vac_type[total_vac_popu_by_vac_type.vaccine_type=='Moderna']\n",
    "total_vac_popu_by_Pfizer= total_vac_popu_by_vac_type[total_vac_popu_by_vac_type.vaccine_type=='Pfizer']\n",
    "total_vac_popu_by_Janssen= total_vac_popu_by_vac_type[total_vac_popu_by_vac_type.vaccine_type=='Janssen']\n",
    "total_vac_popu_by_vac_type['perc_Moderna'] = (total_vac_popu_by_Moderna.stage_two_doses) / (total_vac_popu_by_Moderna.population) *100\n",
    "total_vac_popu_by_vac_type['perc_Pfizer'] = (total_vac_popu_by_Pfizer.stage_two_doses) / (total_vac_popu_by_Pfizer.population) *100\n",
    "total_vac_popu_by_vac_type['perc_Janssen'] = (total_vac_popu_by_Janssen.stage_one_doses) / (total_vac_popu_by_Janssen.population) *100\n",
    "total_popu_vac_type_v1v2=total_vac_popu_by_vac_type[['date','province_state','vaccine_type','population','perc_Moderna', 'perc_Pfizer', 'perc_Janssen']]\n",
    "total_popu_vac_type_v1v2_new=total_popu_vac_type_v1v2.groupby(by=\"province_state\").agg({'population': 'first','perc_Moderna':'sum','perc_Pfizer':'sum','perc_Janssen':'sum'}).sort_values(['perc_Moderna','perc_Pfizer','perc_Janssen'],ascending=False)\n",
    "total_popu_vac_type_v1v2_new.reset_index(inplace=True)"
   ]
  },
  {
   "cell_type": "code",
   "execution_count": 89,
   "id": "9c7924d0",
   "metadata": {},
   "outputs": [
    {
     "data": {
      "text/html": [
       "<div>\n",
       "<style scoped>\n",
       "    .dataframe tbody tr th:only-of-type {\n",
       "        vertical-align: middle;\n",
       "    }\n",
       "\n",
       "    .dataframe tbody tr th {\n",
       "        vertical-align: top;\n",
       "    }\n",
       "\n",
       "    .dataframe thead th {\n",
       "        text-align: right;\n",
       "    }\n",
       "</style>\n",
       "<table border=\"1\" class=\"dataframe\">\n",
       "  <thead>\n",
       "    <tr style=\"text-align: right;\">\n",
       "      <th></th>\n",
       "      <th>province_state</th>\n",
       "      <th>population</th>\n",
       "      <th>perc_Moderna</th>\n",
       "      <th>perc_Pfizer</th>\n",
       "      <th>perc_Janssen</th>\n",
       "    </tr>\n",
       "  </thead>\n",
       "  <tbody>\n",
       "    <tr>\n",
       "      <th>0</th>\n",
       "      <td>New York</td>\n",
       "      <td>19,453,561.00</td>\n",
       "      <td>25.48</td>\n",
       "      <td>44.23</td>\n",
       "      <td>6.42</td>\n",
       "    </tr>\n",
       "    <tr>\n",
       "      <th>1</th>\n",
       "      <td>California</td>\n",
       "      <td>39,512,223.00</td>\n",
       "      <td>24.36</td>\n",
       "      <td>41.44</td>\n",
       "      <td>5.27</td>\n",
       "    </tr>\n",
       "    <tr>\n",
       "      <th>2</th>\n",
       "      <td>Pennsylvania</td>\n",
       "      <td>12,801,989.00</td>\n",
       "      <td>24.16</td>\n",
       "      <td>37.78</td>\n",
       "      <td>5.63</td>\n",
       "    </tr>\n",
       "    <tr>\n",
       "      <th>3</th>\n",
       "      <td>Florida</td>\n",
       "      <td>21,477,737.00</td>\n",
       "      <td>22.55</td>\n",
       "      <td>37.39</td>\n",
       "      <td>6.31</td>\n",
       "    </tr>\n",
       "    <tr>\n",
       "      <th>4</th>\n",
       "      <td>Texas</td>\n",
       "      <td>28,995,881.00</td>\n",
       "      <td>20.92</td>\n",
       "      <td>35.19</td>\n",
       "      <td>4.66</td>\n",
       "    </tr>\n",
       "  </tbody>\n",
       "</table>\n",
       "</div>"
      ],
      "text/plain": [
       "  province_state    population  perc_Moderna  perc_Pfizer  perc_Janssen\n",
       "0       New York 19,453,561.00         25.48        44.23          6.42\n",
       "1     California 39,512,223.00         24.36        41.44          5.27\n",
       "2   Pennsylvania 12,801,989.00         24.16        37.78          5.63\n",
       "3        Florida 21,477,737.00         22.55        37.39          6.31\n",
       "4          Texas 28,995,881.00         20.92        35.19          4.66"
      ]
     },
     "execution_count": 89,
     "metadata": {},
     "output_type": "execute_result"
    }
   ],
   "source": [
    "total_popu_vac_type_v1v2_new"
   ]
  },
  {
   "cell_type": "code",
   "execution_count": 90,
   "id": "687728cb",
   "metadata": {},
   "outputs": [],
   "source": [
    "total_popu_vac_type_v1v2_new1=total_popu_vac_type_v1v2[['vaccine_type','perc_Moderna','perc_Pfizer','perc_Janssen']]\n",
    "\n",
    "total_popu_vac_type_v1v2_new2=total_popu_vac_type_v1v2_new1.groupby(by=\"vaccine_type\").sum()\n",
    "total_popu_vac_type_v1v2_new2.reset_index(inplace=True)"
   ]
  },
  {
   "cell_type": "code",
   "execution_count": 91,
   "id": "43874f8c",
   "metadata": {},
   "outputs": [
    {
     "name": "stderr",
     "output_type": "stream",
     "text": [
      "/var/folders/tc/8sjp0kt163j490kfmrg356s00000gn/T/ipykernel_1183/1876639145.py:1: FutureWarning: Dropping of nuisance columns in DataFrame reductions (with 'numeric_only=None') is deprecated; in a future version this will raise TypeError.  Select only valid columns before calling the reduction.\n",
      "  total_popu_vac_type_v1v2_new2['perc_vaccine_type'] = total_popu_vac_type_v1v2_new2.sum(axis=1)\n"
     ]
    }
   ],
   "source": [
    "total_popu_vac_type_v1v2_new2['perc_vaccine_type'] = total_popu_vac_type_v1v2_new2.sum(axis=1)"
   ]
  },
  {
   "cell_type": "code",
   "execution_count": 92,
   "id": "9232da59",
   "metadata": {},
   "outputs": [
    {
     "data": {
      "image/png": "[encoded data removed]",
      "text/plain": [
       "<Figure size 1152x576 with 1 Axes>"
      ]
     },
     "metadata": {},
     "output_type": "display_data"
    }
   ],
   "source": [
    "fig, ax = plt.subplots(figsize=(16, 8))\n",
    "#colors = ['c', 'm', 'y']\n",
    "labels = ['Janssen','Moderna','Pfizer']\n",
    "explode = (0.2, 0,0)\n",
    "plt.pie(total_popu_vac_type_v1v2_new2.perc_vaccine_type,autopct='%.1f%%',explode=explode,counterclock=False, shadow=True)\n",
    "plt.title(' Doses Administered by Vaccine Type')\n",
    "plt.legend(labels, bbox_to_anchor=(0.85,0.80), loc=\"upper left\")\n",
    "plt.show()"
   ]
  },
  {
   "cell_type": "markdown",
   "id": "00a53a96",
   "metadata": {},
   "source": [
    "To answer our research question : the most frequently vaccine manufacturer reported in being administered and adopted.\n",
    "We used administered doses and population size of the Top 5 states to find the percentage of admistered doses for each vaccine manufacturer on March 31st 2022.\n",
    "Pfizer and Moderna had two doses while Jansseen only had one dose which means to be considered fully vaccinated for Pfizer and Moderna two doses are needed while only one dose for Janssen is considered fully vaccined.\n",
    "We found that Pfizer was the most dominant overalll with 57.4%.  "
   ]
  },
  {
   "cell_type": "code",
   "execution_count": 93,
   "id": "045ff3b7",
   "metadata": {},
   "outputs": [
    {
     "data": {
      "text/plain": [
       "<matplotlib.legend.Legend at 0x10561cdc0>"
      ]
     },
     "execution_count": 93,
     "metadata": {},
     "output_type": "execute_result"
    },
    {
     "data": {
      "image/png": "[encoded data removed]",
      "text/plain": [
       "<Figure size 1152x720 with 1 Axes>"
      ]
     },
     "metadata": {
      "needs_background": "light"
     },
     "output_type": "display_data"
    }
   ],
   "source": [
    "labels = ['Janssen','Moderna','Pfizer']\n",
    "total_popu_vac_type_v1v2_new.plot(x=\"province_state\", y=[\"perc_Janssen\",\"perc_Moderna\",\"perc_Pfizer\"], kind=\"bar\",figsize=(16,10),title='Administered Doses by State')\n",
    "plt.ylabel(\"% of Doses Administered\")\n",
    "plt.legend(labels)"
   ]
  },
  {
   "cell_type": "markdown",
   "id": "638a5cee",
   "metadata": {},
   "source": [
    "What are the percentages of doses administered by manufacturer for each state?"
   ]
  },
  {
   "cell_type": "markdown",
   "id": "03b1265c",
   "metadata": {},
   "source": [
    "Among the top 5 populated states, As shown in the bar chart, by March 31, 2022, the state that has the highest percentage of population vaccinated is New York and Pfizer being the most dominant manufacturer with 44.2% . Texas is with lowest percentage of population vaccinated and  Janssen being the least dominant with 4.7%.\n",
    "We also want to take a look at the vaccination progress for each vaccine type over time in terms of the average of vaccinated population against each manufacturer in April 2021 to March 2022."
   ]
  },
  {
   "cell_type": "code",
   "execution_count": 95,
   "id": "90c9bedb",
   "metadata": {},
   "outputs": [],
   "source": [
    "total_vac_popu_by_vac_type_over_time = state_population.merge(vus_type, how='right', on='province_state')\n",
    "total_vac_popu_by_Moderna_over_time= total_vac_popu_by_vac_type_over_time[total_vac_popu_by_vac_type_over_time.vaccine_type=='Moderna']\n",
    "total_vac_popu_by_Pfizer_over_time= total_vac_popu_by_vac_type_over_time[total_vac_popu_by_vac_type_over_time.vaccine_type=='Pfizer']\n",
    "total_vac_popu_by_Janssen_over_time= total_vac_popu_by_vac_type_over_time[total_vac_popu_by_vac_type_over_time.vaccine_type=='Janssen']\n",
    "total_vac_popu_by_vac_type_over_time['perc_Moderna'] = (total_vac_popu_by_Moderna_over_time.stage_two_doses) / (total_vac_popu_by_Moderna_over_time.population) *100\n",
    "total_vac_popu_by_vac_type_over_time['perc_Pfizer'] = (total_vac_popu_by_Pfizer_over_time.stage_two_doses) / (total_vac_popu_by_Pfizer_over_time.population) *100\n",
    "total_vac_popu_by_vac_type_over_time['perc_Janssen'] = (total_vac_popu_by_Janssen_over_time.stage_one_doses) / (total_vac_popu_by_Janssen_over_time.population) *100\n",
    "total_vac_popu_by_vac_type_over_time =total_vac_popu_by_vac_type_over_time [['date','province_state','vaccine_type','population','perc_Moderna', 'perc_Pfizer', 'perc_Janssen']]\n",
    "total_vac_popu_by_vac_type_over_time_new=total_vac_popu_by_vac_type_over_time .groupby(by=\"date\").sum()\n",
    "total_vac_popu_by_vac_type_over_time_new.reset_index(inplace=True)"
   ]
  },
  {
   "cell_type": "code",
   "execution_count": 96,
   "id": "b8d12b42",
   "metadata": {},
   "outputs": [
    {
     "data": {
      "text/plain": [
       "<matplotlib.legend.Legend at 0x112a42b50>"
      ]
     },
     "execution_count": 96,
     "metadata": {},
     "output_type": "execute_result"
    },
    {
     "data": {
      "image/png": "[encoded data removed]",
      "text/plain": [
       "<Figure size 1152x576 with 1 Axes>"
      ]
     },
     "metadata": {
      "needs_background": "light"
     },
     "output_type": "display_data"
    }
   ],
   "source": [
    "total_vac_popu_by_vac_type_over_time_new.plot(x=\"date\", y=[\"perc_Janssen\",\"perc_Moderna\",\"perc_Pfizer\"], kind=\"line\",figsize=(16,8),\n",
    "                                             title=\"Administered Doses Over Time \")\n",
    "plt.ylabel(\"% of Doses Administered\")\n",
    "plt.legend(labels)\n"
   ]
  },
  {
   "cell_type": "code",
   "execution_count": 97,
   "id": "5dd8c4cf",
   "metadata": {},
   "outputs": [
    {
     "data": {
      "image/png": "[encoded data removed]",
      "text/plain": [
       "<Figure size 1152x576 with 1 Axes>"
      ]
     },
     "metadata": {
      "needs_background": "light"
     },
     "output_type": "display_data"
    }
   ],
   "source": [
    "fig, ax  = plt.subplots(1,1, figsize=(16, 8))\n",
    "fig.align_labels()\n",
    "vus_type_new1 = vus_type[vus_type.vaccine_type == 'Moderna'].groupby(['date']).agg({'stage_two_doses' : 'sum'}).reset_index()\n",
    "vus_type_new2 = vus_type[vus_type.vaccine_type == 'Pfizer'].groupby(['date']).agg({'stage_two_doses' : 'sum'}).reset_index()\n",
    "vus_type_new3 = vus_type[vus_type.vaccine_type == 'Janssen'].groupby(['date']).agg({'stage_one_doses' : 'sum'}).reset_index()\n",
    "vus_type_new1.plot.line(ax=ax, x='date', y='stage_two_doses', color = 'blue', label = 'Moderna')\n",
    "vus_type_new2.plot.line(ax=ax, x='date', y='stage_two_doses', color = 'orange', label = 'Pfizer')\n",
    "vus_type_new3.plot.line(ax=ax, x='date', y='stage_one_doses', color = 'green', label = 'Janssen')\n",
    "ax.set_title(\"Administered Doses Over Time \")\n",
    "ax.set_xlabel(\"Contribution Date\")\n",
    "ax.set_ylabel(\" Total Number of Doses Administered\")\n",
    "plt.tight_layout(pad=1)\n",
    "plt.show()"
   ]
  },
  {
   "cell_type": "markdown",
   "id": "cd0f3cc0",
   "metadata": {},
   "source": [
    "Over time, how was vaccine manufacturer being administered and adopted by the population?"
   ]
  },
  {
   "cell_type": "markdown",
   "id": "fee28ce3",
   "metadata": {},
   "source": [
    "While Jansseen has been the least administered and adopted manufacturer, At the beginning of April 2021, Pfizer and Moderna doses were similary being administered and adopted.\n",
    "Mid April, Pfizer slowly started moving up and took over."
   ]
  },
  {
   "cell_type": "code",
   "execution_count": null,
   "id": "eda43e48",
   "metadata": {},
   "outputs": [],
   "source": []
  }
 ],
 "metadata": {
  "kernelspec": {
   "display_name": "Python 3 (ipykernel)",
   "language": "python",
   "name": "python3"
  },
  "language_info": {
   "codemirror_mode": {
    "name": "ipython",
    "version": 3
   },
   "file_extension": ".py",
   "mimetype": "text/x-python",
   "name": "python",
   "nbconvert_exporter": "python",
   "pygments_lexer": "ipython3",
   "version": "3.9.10"
  }
 },
 "nbformat": 4,
 "nbformat_minor": 5
}
